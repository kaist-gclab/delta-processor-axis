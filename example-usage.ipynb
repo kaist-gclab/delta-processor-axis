{
 "cells": [
  {
   "cell_type": "markdown",
   "metadata": {},
   "source": [
    "## Example python code for using `delta-processor-axis`\n",
    "\n",
    "We describe the whole process from the `3D model URL` to `medial axis` using docker.  \n",
    "Pypi packages `requests` and `docker` are required to run this sample project.  \n",
    "Note that the model URLs might not be available at the moment you run the code.  \n",
    "You can reference this code to build an intergrated system for medial axis problem."
   ]
  },
  {
   "cell_type": "code",
   "execution_count": 1,
   "metadata": {},
   "outputs": [],
   "source": [
    "import time\n",
    "import os\n",
    "import shutil\n",
    "import uuid\n",
    "import warnings\n",
    "\n",
    "import requests\n",
    "import docker"
   ]
  },
  {
   "cell_type": "code",
   "execution_count": 2,
   "metadata": {},
   "outputs": [],
   "source": [
    "def filesize(filepath):\n",
    "    num = os.path.getsize(filepath)\n",
    "    suffix = 'B'\n",
    "    for unit in ['','K','M','G','T','P','E','Z']:\n",
    "        if abs(num) < 1024.0:\n",
    "            return \"%3.1f%s%s\" % (num, unit, suffix)\n",
    "        num /= 1024.0\n",
    "    return \"%.1f%s%s\" % (num, 'Y', suffix)\n",
    "\n",
    "\n",
    "def create_workspace_and_download_model(model_url):\n",
    "    \"\"\" Create a temporal workspace for medial axis and download the model to the workspace.\n",
    "    \"\"\"\n",
    "    # Generate a working directory using uuid (random hex generation)\n",
    "    workspace = uuid.uuid4().hex[0:12]\n",
    "    os.mkdir(workspace)\n",
    "    \n",
    "    # Get filename and path\n",
    "    filename = model_url.split('/')[-1]\n",
    "    filepath = os.path.join(workspace, filename)\n",
    "    \n",
    "    # Download the model\n",
    "    with requests.get(model_url, stream=True) as r:\n",
    "        with open(filepath, 'wb') as f:\n",
    "            shutil.copyfileobj(r.raw, f)\n",
    "    \n",
    "    return workspace, filename\n",
    "\n",
    "\n",
    "def medial_axis(dirname, input_filename, running_args=''):\n",
    "    \"\"\" Execute medial axis from the local 3d model file.\n",
    "    \"\"\"\n",
    "    # Map the workspace directory to the /data directory of the container using volume\n",
    "    volume_path = dirname\n",
    "    if volume_path[0] != '/':\n",
    "        volume_path = os.path.join(os.getcwd(), volume_path)\n",
    "\n",
    "    start_time = time.time()\n",
    "\n",
    "    # Run docker container\n",
    "    client.containers.run(\n",
    "        image='kaistgclab/delta-processor-axis',\n",
    "        auto_remove=True,\n",
    "        volumes={volume_path: {'bind': '/data', 'mode': 'rw'}},\n",
    "        command=f'-i {input_filename} {running_args}'\n",
    "    )\n",
    "\n",
    "    time_consumed = round(time.time() - start_time)\n",
    "\n",
    "    return {\n",
    "        'output': os.path.join(dirname, 'axis.off'),\n",
    "        'time_consumed': time_consumed,\n",
    "    }"
   ]
  },
  {
   "cell_type": "markdown",
   "metadata": {},
   "source": [
    "### Check docker image exists"
   ]
  },
  {
   "cell_type": "code",
   "execution_count": 3,
   "metadata": {},
   "outputs": [
    {
     "name": "stdout",
     "output_type": "stream",
     "text": [
      "Docker image exists.\n"
     ]
    }
   ],
   "source": [
    "client = docker.from_env()\n",
    "image_exists = False\n",
    "\n",
    "for image in client.images.list():\n",
    "    for tag in image.tags:\n",
    "        if 'kaistgclab/delta-processor-axis:' in tag:\n",
    "            image_exists = True\n",
    "            break\n",
    "            \n",
    "if not image_exists:\n",
    "    warnings.warn('Docker image \"kaistgclab/delta-processor-axis:*\" not exists on your machine\\n'\n",
    "                  'Please build the image first before trying this script.')\n",
    "else:\n",
    "    print('Docker image exists.')"
   ]
  },
  {
   "cell_type": "markdown",
   "metadata": {},
   "source": [
    "### Run medial axis"
   ]
  },
  {
   "cell_type": "code",
   "execution_count": 4,
   "metadata": {},
   "outputs": [
    {
     "name": "stdout",
     "output_type": "stream",
     "text": [
      "- Output file is located in \"f9d1f0ac147c/axis.off\"\n",
      "- Size of the output file is 129.3KB\n",
      "- Time consumed: 1 seconds\n"
     ]
    }
   ],
   "source": [
    "MODEL_DOWNLOAD_URL_1 = 'http://research.prev.kr/delta/models/knot.pts'\n",
    "\n",
    "# Download the first model file for medial axis\n",
    "workspace, input_filename = create_workspace_and_download_model(MODEL_DOWNLOAD_URL_1)\n",
    "\n",
    "# Run medial axis using docker\n",
    "result = medial_axis(workspace, input_filename)\n",
    "\n",
    "print(f'- Output file is located in \"{result[\"output\"]}\"')\n",
    "print(f'- Size of the output file is {filesize(result[\"output\"])}')\n",
    "print(f'- Time consumed: {result[\"time_consumed\"]} seconds')"
   ]
  },
  {
   "cell_type": "code",
   "execution_count": 5,
   "metadata": {},
   "outputs": [
    {
     "name": "stdout",
     "output_type": "stream",
     "text": [
      "- Output file is located in \"6e52b6fd994a/axis.off\"\n",
      "- Size of the output file is 94.0MB\n",
      "- Time consumed: 36 seconds\n"
     ]
    }
   ],
   "source": [
    "MODEL_DOWNLOAD_URL_2 = 'http://research.prev.kr/delta/models/horse.off'\n",
    "\n",
    "# Download the second model file for medial axis\n",
    "workspace, input_filename = create_workspace_and_download_model(MODEL_DOWNLOAD_URL_2)\n",
    "\n",
    "# Run medial axis using docker\n",
    "result = medial_axis(workspace, input_filename)\n",
    "\n",
    "print(f'- Output file is located in \"{result[\"output\"]}\"')\n",
    "print(f'- Size of the output file is {filesize(result[\"output\"])}')\n",
    "print(f'- Time consumed: {result[\"time_consumed\"]} seconds')"
   ]
  }
 ],
 "metadata": {
  "kernelspec": {
   "display_name": "Python 3",
   "language": "python",
   "name": "python3"
  },
  "language_info": {
   "codemirror_mode": {
    "name": "ipython",
    "version": 3
   },
   "file_extension": ".py",
   "mimetype": "text/x-python",
   "name": "python",
   "nbconvert_exporter": "python",
   "pygments_lexer": "ipython3",
   "version": "3.6.8"
  }
 },
 "nbformat": 4,
 "nbformat_minor": 4
}
