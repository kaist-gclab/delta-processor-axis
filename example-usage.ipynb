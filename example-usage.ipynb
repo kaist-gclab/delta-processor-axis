{
 "cells": [
  {
   "cell_type": "markdown",
   "metadata": {},
   "source": [
    "## Example python code for using `delta-processor-axis`\n",
    "\n",
    "We describe the whole process from the 3d model url to medial axis retrieval using docker.  \n",
    "Pypi packages `requests` and `docker` are required to run this sample project.  \n",
    "Note that the model url might not be available at the moment you run the code.  \n",
    "You can reference this code to build an intergrated system for medial axis problem."
   ]
  },
  {
   "cell_type": "code",
   "execution_count": 1,
   "metadata": {},
   "outputs": [],
   "source": [
    "import os\n",
    "import uuid\n",
    "import shutil\n",
    "import warnings\n",
    "\n",
    "import requests\n",
    "import docker"
   ]
  },
  {
   "cell_type": "code",
   "execution_count": 2,
   "metadata": {},
   "outputs": [],
   "source": [
    "MODEL_DOWNLOAD_URL = 'http://research.prev.kr/delta/models/horse.off'"
   ]
  },
  {
   "cell_type": "markdown",
   "metadata": {},
   "source": [
    "### Make a temp directory in which input and ouput files are located"
   ]
  },
  {
   "cell_type": "code",
   "execution_count": 3,
   "metadata": {},
   "outputs": [
    {
     "name": "stdout",
     "output_type": "stream",
     "text": [
      "5ad0a4d7bb8b49558cacec1870a6aed2\n"
     ]
    }
   ],
   "source": [
    "tmpdirname = uuid.uuid4().hex\n",
    "print(tmpdirname)\n",
    "\n",
    "os.mkdir(tmpdirname)"
   ]
  },
  {
   "cell_type": "markdown",
   "metadata": {},
   "source": [
    "### Download 3D model file from the URL"
   ]
  },
  {
   "cell_type": "code",
   "execution_count": 4,
   "metadata": {},
   "outputs": [
    {
     "name": "stdout",
     "output_type": "stream",
     "text": [
      "Size of the downloaded file: 4.6MB\n"
     ]
    }
   ],
   "source": [
    "filename = MODEL_DOWNLOAD_URL.split('/')[-1]\n",
    "filepath = os.path.join(tmpdirname, filename)\n",
    "with requests.get(MODEL_DOWNLOAD_URL, stream=True) as r:\n",
    "    with open(filepath, 'wb') as f:\n",
    "        shutil.copyfileobj(r.raw, f)\n",
    "\n",
    "size = os.path.getsize(filepath)\n",
    "size_mb = round(size / 1024 / 1024, 1)\n",
    "print(f'Size of the downloaded file: {size_mb}MB')"
   ]
  },
  {
   "cell_type": "markdown",
   "metadata": {},
   "source": [
    "### Check docker image exists"
   ]
  },
  {
   "cell_type": "code",
   "execution_count": 5,
   "metadata": {},
   "outputs": [
    {
     "name": "stdout",
     "output_type": "stream",
     "text": [
      "Docker image exists.\n"
     ]
    }
   ],
   "source": [
    "client = docker.from_env()\n",
    "image_exists = False\n",
    "\n",
    "for image in client.images.list():\n",
    "    for tag in image.tags:\n",
    "        if 'delta-processor-axis:' in tag:\n",
    "            image_exists = True\n",
    "            break\n",
    "            \n",
    "if not image_exists:\n",
    "    warnings.warn('Docker image \"delta-processor-axis:*\" not exists on your machine\\n'\n",
    "                  'Please build the image first before trying this script.')\n",
    "else:\n",
    "    print('Docker image exists.')"
   ]
  },
  {
   "cell_type": "markdown",
   "metadata": {},
   "source": [
    "### Run docker container"
   ]
  },
  {
   "cell_type": "code",
   "execution_count": 6,
   "metadata": {},
   "outputs": [
    {
     "data": {
      "text/plain": [
       "b'%/var/lib/powercrust/powercrust -i horse.off\\n'"
      ]
     },
     "execution_count": 6,
     "metadata": {},
     "output_type": "execute_result"
    }
   ],
   "source": [
    "# Set volume of the container as temp directory, where the input file is located in.\n",
    "volume_path = os.path.join(os.getcwd(), tmpdirname)\n",
    "\n",
    "# Run docker container\n",
    "client.containers.run(\n",
    "    image='delta-processor-axis',\n",
    "    auto_remove=True,\n",
    "    volumes={volume_path: {'bind': '/data', 'mode': 'rw'}},\n",
    "    command=f'-i {filename}'\n",
    ")"
   ]
  },
  {
   "cell_type": "markdown",
   "metadata": {},
   "source": [
    "### Check outputs"
   ]
  },
  {
   "cell_type": "code",
   "execution_count": 7,
   "metadata": {},
   "outputs": [
    {
     "name": "stdout",
     "output_type": "stream",
     "text": [
      "horse.off.pts            2.7MB\n",
      "tempFile.txt             12.4MB\n",
      "axis.off                 94.0MB\n",
      "inpole                   3.4MB\n",
      "pc.off                   74.0MB\n",
      "horse.off                4.6MB\n",
      "inpball                  4.5MB\n",
      "outpole                  3.5MB\n",
      "poleinfo                 99.4MB\n",
      "axisface.off             39.3MB\n"
     ]
    }
   ],
   "source": [
    "for file in os.listdir(tmpdirname):\n",
    "    size = os.path.getsize(os.path.join(tmpdirname, file))\n",
    "    size_mb = round(size / 1024 / 1024, 1)\n",
    "    \n",
    "    print(f'{file.ljust(25)}{size_mb}MB')"
   ]
  }
 ],
 "metadata": {
  "kernelspec": {
   "display_name": "Python 3",
   "language": "python",
   "name": "python3"
  },
  "language_info": {
   "codemirror_mode": {
    "name": "ipython",
    "version": 3
   },
   "file_extension": ".py",
   "mimetype": "text/x-python",
   "name": "python",
   "nbconvert_exporter": "python",
   "pygments_lexer": "ipython3",
   "version": "3.6.8"
  }
 },
 "nbformat": 4,
 "nbformat_minor": 4
}
